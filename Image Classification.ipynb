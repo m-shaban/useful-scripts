{
 "cells": [
  {
   "cell_type": "markdown",
   "metadata": {},
   "source": [
    "# How to classify an image using ImageNet based pretrained image classification model (e.g., Resnet101)"
   ]
  },
  {
   "cell_type": "code",
   "execution_count": 1,
   "metadata": {},
   "outputs": [],
   "source": [
    "import os\n",
    "import torch\n",
    "from torchvision import models\n",
    "from torchvision import transforms\n",
    "from PIL import Image"
   ]
  },
  {
   "cell_type": "code",
   "execution_count": 2,
   "metadata": {},
   "outputs": [],
   "source": [
    "root_dir = ''"
   ]
  },
  {
   "cell_type": "code",
   "execution_count": 3,
   "metadata": {},
   "outputs": [],
   "source": [
    "# preprocessor and model initialization\n",
    "preprocess = transforms.Compose([transforms.Resize(256), transforms.CenterCrop(224), transforms.ToTensor(), transforms.Normalize(mean=[0.485, 0.456, 0.406], std=[0.229, 0.224, 0.225])])\n",
    "resnet = models.resnet101(pretrained=True)\n",
    "resnet.eval()\n",
    "pass  # to aviod network printing"
   ]
  },
  {
   "cell_type": "code",
   "execution_count": 4,
   "metadata": {},
   "outputs": [],
   "source": [
    "# input data and imagenet labels\n",
    "img = Image.open(os.path.join(root_dir, 'Datasets/Images/dog.jpg'))\n",
    "with open(os.path.join(root_dir, 'Datasets/imagenet_classes.txt')) as f:\n",
    "    labels = [line.strip() for line in f.readlines()]"
   ]
  },
  {
   "cell_type": "code",
   "execution_count": 5,
   "metadata": {},
   "outputs": [],
   "source": [
    "# model inference\n",
    "img_t = preprocess(img)\n",
    "batch_t = torch.unsqueeze(img_t, 0)\n",
    "out = resnet(batch_t)\n",
    "_, index = torch.max(out, 1)\n",
    "_, indicies = torch.sort(out, 1, descending=True)\n",
    "probabilities = torch.nn.functional.softmax(out,1)[0]"
   ]
  },
  {
   "cell_type": "code",
   "execution_count": 6,
   "metadata": {},
   "outputs": [
    {
     "name": "stdout",
     "output_type": "stream",
     "text": [
      "Top-1 Prediction Label: Pomeranian\n",
      "Top-1 Prediction Confidense: 0.8725\n",
      "\n",
      "Top-5 Predictions with Confidence Values:\n",
      "1 - Pomeranian: 0.8725\n",
      "2 - Samoyed, Samoyede: 0.0422\n",
      "3 - Maltese dog, Maltese terrier, Maltese: 0.0274\n",
      "4 - Japanese spaniel: 0.0078\n",
      "5 - toy poodle: 0.0069\n"
     ]
    }
   ],
   "source": [
    "# resutls\n",
    "print('Top-1 Prediction Label: %s' % labels[index[0]])\n",
    "print('Top-1 Prediction Confidense: %0.04f' % probabilities[index[0]])\n",
    "print('')\n",
    "print('Top-5 Predictions with Confidence Values:')\n",
    "i = 1\n",
    "for idx in indicies[0][:5]:\n",
    "    print(\"%d - %s: %0.04f\" % (i, labels[idx], probabilities[idx]))\n",
    "    i+= 1"
   ]
  },
  {
   "cell_type": "code",
   "execution_count": null,
   "metadata": {},
   "outputs": [],
   "source": []
  }
 ],
 "metadata": {
  "kernelspec": {
   "display_name": "Python 3",
   "language": "python",
   "name": "python3"
  },
  "language_info": {
   "codemirror_mode": {
    "name": "ipython",
    "version": 3
   },
   "file_extension": ".py",
   "mimetype": "text/x-python",
   "name": "python",
   "nbconvert_exporter": "python",
   "pygments_lexer": "ipython3",
   "version": "3.8.10"
  }
 },
 "nbformat": 4,
 "nbformat_minor": 4
}
